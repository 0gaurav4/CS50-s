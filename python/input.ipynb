{
 "cells": [
  {
   "cell_type": "code",
   "execution_count": 4,
   "metadata": {},
   "outputs": [
    {
     "ename": "SyntaxError",
     "evalue": "f-string: unmatched '(' (751314910.py, line 1)",
     "output_type": "error",
     "traceback": [
      "\u001b[1;36m  Input \u001b[1;32mIn [4]\u001b[1;36m\u001b[0m\n\u001b[1;33m    print(f\"Hello, {input(f\"Name: \")}\")\u001b[0m\n\u001b[1;37m                            ^\u001b[0m\n\u001b[1;31mSyntaxError\u001b[0m\u001b[1;31m:\u001b[0m f-string: unmatched '('\n"
     ]
    }
   ],
   "source": [
    "# print(f\"Hello, {input(\"Name: \")}\")"
   ]
  },
  {
   "cell_type": "code",
   "execution_count": 5,
   "metadata": {},
   "outputs": [
    {
     "name": "stdout",
     "output_type": "stream",
     "text": [
      "Hello, user\n"
     ]
    }
   ],
   "source": [
    "name = input(\"Name: \")\n",
    "print(\"Hello, \" + name)"
   ]
  },
  {
   "cell_type": "code",
   "execution_count": 3,
   "metadata": {},
   "outputs": [
    {
     "name": "stdout",
     "output_type": "stream",
     "text": [
      "Number is positive\n"
     ]
    }
   ],
   "source": [
    "num = int(input(\"Number: \"))\n",
    "if num > 0:\n",
    "    print(\"Number is positive\")\n",
    "elif num < 0:\n",
    "    print(\"Number is negative\")\n",
    "else:\n",
    "    print(\"Number is 0\")\n",
    "    "
   ]
  },
  {
   "cell_type": "code",
   "execution_count": 6,
   "metadata": {},
   "outputs": [
    {
     "name": "stdout",
     "output_type": "stream",
     "text": [
      "['Harry', 'Ron', 'Hermione']\n",
      "Ron\n",
      "['Draco', 'Harry', 'Hermione', 'Ron']\n"
     ]
    }
   ],
   "source": [
    "# This is a Python comment\n",
    "names = [\"Harry\", \"Ron\", \"Hermione\"]\n",
    "# Print the entire list:\n",
    "print(names)\n",
    "# Print the second element of the list:\n",
    "print(names[1])\n",
    "# Add a new name to the list:\n",
    "names.append(\"Draco\")\n",
    "# Sort the list:\n",
    "names.sort()\n",
    "# Print the new list:\n",
    "print(names)"
   ]
  },
  {
   "cell_type": "code",
   "execution_count": 7,
   "metadata": {},
   "outputs": [],
   "source": [
    "point = (12.5, 10.6)"
   ]
  },
  {
   "cell_type": "code",
   "execution_count": 8,
   "metadata": {},
   "outputs": [
    {
     "data": {
      "text/plain": [
       "tuple"
      ]
     },
     "execution_count": 8,
     "metadata": {},
     "output_type": "execute_result"
    }
   ],
   "source": [
    "type(point)"
   ]
  },
  {
   "cell_type": "code",
   "execution_count": 9,
   "metadata": {},
   "outputs": [
    {
     "name": "stdout",
     "output_type": "stream",
     "text": [
      "{1, 3, 4}\n",
      "The set has 3 elements.\n"
     ]
    }
   ],
   "source": [
    "# Create an empty set:\n",
    "s = set()\n",
    "\n",
    "# Add some elements:\n",
    "s.add(1)\n",
    "s.add(2)\n",
    "s.add(3)\n",
    "s.add(4)\n",
    "s.add(3)\n",
    "s.add(1)\n",
    "\n",
    "# Remove 2 from the set\n",
    "s.remove(2)\n",
    "\n",
    "# Print the set:\n",
    "print(s)\n",
    "\n",
    "# Find the size of the set:\n",
    "print(f\"The set has {len(s)} elements.\")"
   ]
  },
  {
   "cell_type": "code",
   "execution_count": 11,
   "metadata": {},
   "outputs": [
    {
     "name": "stdout",
     "output_type": "stream",
     "text": [
      "Gryffindor\n",
      "Barabanki\n"
     ]
    }
   ],
   "source": [
    "# Define a dictionary\n",
    "houses = {\"Harry\": \"Gryffindor\", \"Draco\": \"Slytherin\"}\n",
    "# Print out Harry's house\n",
    "print(houses[\"Harry\"])\n",
    "# Adding values to a dictionary:\n",
    "houses[\"Hermione\"] = \"Barabanki\"\n",
    "# Print out Hermione's House:\n",
    "print(houses[\"Hermione\"])\n"
   ]
  },
  {
   "cell_type": "code",
   "execution_count": 1,
   "metadata": {},
   "outputs": [
    {
     "name": "stdout",
     "output_type": "stream",
     "text": [
      "H\n",
      "o\n",
      "n\n",
      "e\n",
      "y\n"
     ]
    }
   ],
   "source": [
    "name = \"Honey\"\n",
    "for char in name:\n",
    "    print(char)"
   ]
  },
  {
   "cell_type": "code",
   "execution_count": 13,
   "metadata": {},
   "outputs": [],
   "source": [
    "def square(x):\n",
    "    return x * x"
   ]
  },
  {
   "cell_type": "code",
   "execution_count": 14,
   "metadata": {},
   "outputs": [
    {
     "name": "stdout",
     "output_type": "stream",
     "text": [
      "The square of 0 is 0\n",
      "The square of 1 is 1\n",
      "The square of 2 is 4\n",
      "The square of 3 is 9\n",
      "The square of 4 is 16\n",
      "The square of 5 is 25\n",
      "The square of 6 is 36\n",
      "The square of 7 is 49\n",
      "The square of 8 is 64\n",
      "The square of 9 is 81\n"
     ]
    }
   ],
   "source": [
    "for i in range(10):\n",
    "    print(f\"The square of {i} is {square(i)}\")"
   ]
  },
  {
   "cell_type": "code",
   "execution_count": 19,
   "metadata": {},
   "outputs": [
    {
     "name": "stdout",
     "output_type": "stream",
     "text": [
      "The square of 0 is 0\n",
      "The square of 1 is 1\n",
      "The square of 2 is 4\n",
      "The square of 3 is 9\n",
      "The square of 4 is 16\n",
      "The square of 5 is 25\n",
      "The square of 6 is 36\n",
      "The square of 7 is 49\n",
      "The square of 8 is 64\n",
      "The square of 9 is 81\n"
     ]
    }
   ],
   "source": [
    "# from functions import square\n",
    "\n",
    "# for i in range(10):\n",
    "#     print(f\"The square of {i} is {square(i)}\")"
   ]
  },
  {
   "attachments": {},
   "cell_type": "markdown",
   "metadata": {},
   "source": [
    "https://cs50.harvard.edu/web/2020/notes/0/\n"
   ]
  },
  {
   "cell_type": "code",
   "execution_count": 2,
   "metadata": {},
   "outputs": [
    {
     "name": "stdout",
     "output_type": "stream",
     "text": [
      "bahut saari lines\n",
      "agar likhi h to aap\n",
      "aese likh sakte h\n"
     ]
    }
   ],
   "source": [
    "msg = '''bahut saari lines\n",
    "agar likhi h to aap\n",
    "aese likh sakte h'''\n",
    "print(msg)"
   ]
  },
  {
   "cell_type": "code",
   "execution_count": 3,
   "metadata": {},
   "outputs": [
    {
     "name": "stdout",
     "output_type": "stream",
     "text": [
      "b\n",
      "h\n",
      "a\n"
     ]
    }
   ],
   "source": [
    "print(msg[0])\n",
    "print(msg[-1]) # last character of string\n",
    "print(msg[7]) # 4 item"
   ]
  },
  {
   "cell_type": "code",
   "execution_count": null,
   "metadata": {},
   "outputs": [],
   "source": []
  }
 ],
 "metadata": {
  "kernelspec": {
   "display_name": "Python 3",
   "language": "python",
   "name": "python3"
  },
  "language_info": {
   "codemirror_mode": {
    "name": "ipython",
    "version": 3
   },
   "file_extension": ".py",
   "mimetype": "text/x-python",
   "name": "python",
   "nbconvert_exporter": "python",
   "pygments_lexer": "ipython3",
   "version": "3.9.10"
  },
  "orig_nbformat": 4,
  "vscode": {
   "interpreter": {
    "hash": "dad35ac5c78b496eda946afbd550ec296dcc8552236347d45adb0399e9bdd932"
   }
  }
 },
 "nbformat": 4,
 "nbformat_minor": 2
}
